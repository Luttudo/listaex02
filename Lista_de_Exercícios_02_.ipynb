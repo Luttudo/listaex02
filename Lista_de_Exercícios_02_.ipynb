{
  "nbformat": 4,
  "nbformat_minor": 0,
  "metadata": {
    "colab": {
      "provenance": [],
      "authorship_tag": "ABX9TyMjx8u7h7uk2tuBUO4JvUG3",
      "include_colab_link": true
    },
    "kernelspec": {
      "name": "python3",
      "display_name": "Python 3"
    },
    "language_info": {
      "name": "python"
    }
  },
  "cells": [
    {
      "cell_type": "markdown",
      "metadata": {
        "id": "view-in-github",
        "colab_type": "text"
      },
      "source": [
        "<a href=\"https://colab.research.google.com/github/Luttudo/listaex02/blob/main/Lista_de_Exerc%C3%ADcios_02_.ipynb\" target=\"_parent\"><img src=\"https://colab.research.google.com/assets/colab-badge.svg\" alt=\"Open In Colab\"/></a>"
      ]
    },
    {
      "cell_type": "markdown",
      "source": [
        "1"
      ],
      "metadata": {
        "id": "PhF1M81urLEr"
      }
    },
    {
      "cell_type": "code",
      "execution_count": null,
      "metadata": {
        "id": "IZvjMc-crHzj"
      },
      "outputs": [],
      "source": [
        "def contar_vogais(texto):\n",
        "    vogais = \"aeiouAEIOU\"\n",
        "    contador = 0\n",
        "    for char in texto:\n",
        "        if char in vogais:\n",
        "            contador += 1\n",
        "    return contador\n",
        "\n",
        "frase = \"Esta é uma frase de exemplo com algumas vogais.\"\n",
        "total_vogais = contar_vogais(frase)\n",
        "print(f\"Total de vogais na frase: {total_vogais}\")\n"
      ]
    },
    {
      "cell_type": "markdown",
      "source": [
        "2"
      ],
      "metadata": {
        "id": "RoxOYATnrM0f"
      }
    },
    {
      "cell_type": "code",
      "source": [
        "def substituir_letra(texto, letra_original, letra_substituta):\n",
        "    return texto.replace(letra_original, letra_substituta)\n",
        "\n",
        "frase_original = \"Esta é uma frase de exemplo com algumas letras.\"\n",
        "letra_a_substituir = \"a\"\n",
        "letra_substituta = \"x\"\n",
        "frase_modificada = substituir_letra(frase_original, letra_a_substituir, letra_substituta)\n",
        "print(f\"Frase modificada: {frase_modificada}\")\n"
      ],
      "metadata": {
        "colab": {
          "base_uri": "https://localhost:8080/"
        },
        "id": "mQpkbWi5rKKs",
        "outputId": "41e4cfd8-441f-403f-f6f3-bfeb3b4e29d1"
      },
      "execution_count": null,
      "outputs": [
        {
          "output_type": "stream",
          "name": "stdout",
          "text": [
            "Frase modificada: Estx é umx frxse de exemplo com xlgumxs letrxs.\n"
          ]
        }
      ]
    },
    {
      "cell_type": "markdown",
      "source": [
        "3"
      ],
      "metadata": {
        "id": "XjB7GOoOruaw"
      }
    },
    {
      "cell_type": "code",
      "source": [
        "def contar_palavras(texto):\n",
        "    return len(texto.split())\n",
        "\n",
        "frase = \"Esta é uma frase de exemplo com várias palavras.\"\n",
        "total_palavras = contar_palavras(frase)\n",
        "print(f\"Total de palavras na frase: {total_palavras}\")\n"
      ],
      "metadata": {
        "colab": {
          "base_uri": "https://localhost:8080/"
        },
        "id": "tYLajMlNrvWj",
        "outputId": "b22e570a-da29-4f17-8b58-91de4fd23ecf"
      },
      "execution_count": null,
      "outputs": [
        {
          "output_type": "stream",
          "name": "stdout",
          "text": [
            "Total de palavras na frase: 9\n"
          ]
        }
      ]
    },
    {
      "cell_type": "markdown",
      "source": [
        "4"
      ],
      "metadata": {
        "id": "g6IwiAgNr-x8"
      }
    },
    {
      "cell_type": "code",
      "source": [
        "def conta_ocorrencias(frase, palavra):\n",
        "    return len([w for w in frase.split() if w == palavra])\n",
        "\n",
        "frase = \"O gato pulou sobre o sofá. O sofá era muito alto para o gato.\"\n",
        "palavra = \"gato\"\n",
        "\n",
        "print(conta_ocorrencias(frase, palavra))\n"
      ],
      "metadata": {
        "colab": {
          "base_uri": "https://localhost:8080/"
        },
        "id": "9hAFUIE7siSZ",
        "outputId": "59a25130-c62c-47b5-a94a-2ef12871a757"
      },
      "execution_count": null,
      "outputs": [
        {
          "output_type": "stream",
          "name": "stdout",
          "text": [
            "1\n"
          ]
        }
      ]
    },
    {
      "cell_type": "markdown",
      "source": [
        "5 Crie uma função que encontre os k maiores elementos em uma lista, mantendo a\n",
        "ordem original."
      ],
      "metadata": {
        "id": "pRC6crCos2dI"
      }
    },
    {
      "cell_type": "code",
      "source": [
        "def k_maiores_elementos(lista, k):\n",
        "    return sorted(sorted([(x,i) for i,x in enumerate(lista)], key=lambda x: x[1], reverse=True)[:k], key=lambda x: x[1])\n",
        "\n",
        "lista = [1, 23, 12, 9, 30, 2, 50]\n",
        "k = 3\n",
        "\n",
        "print([x[0] for x in k_maiores_elementos(lista, k)])\n"
      ],
      "metadata": {
        "colab": {
          "base_uri": "https://localhost:8080/"
        },
        "id": "DpI2qyQ2s3FA",
        "outputId": "bbfa3cae-8b83-4690-93e8-2bb33dca9361"
      },
      "execution_count": null,
      "outputs": [
        {
          "output_type": "stream",
          "name": "stdout",
          "text": [
            "[30, 2, 50]\n"
          ]
        }
      ]
    },
    {
      "cell_type": "markdown",
      "source": [
        "6. Escreva um programa que implemente a soma de matrizes usando listas\n",
        "aninhadas"
      ],
      "metadata": {
        "id": "0vPUY9jHtC21"
      }
    },
    {
      "cell_type": "code",
      "source": [
        "def soma_matrizes(A, B):\n",
        "    return [[A[i][j] + B[i][j] for j in range(len(A[0]))] for i in range(len(A))]\n",
        "\n",
        "A = [[1, 2, 3], [4, 5, 6], [7, 8, 9]]\n",
        "B = [[10, 11, 12], [13, 14, 15], [16, 17, 18]]\n",
        "\n",
        "print(soma_matrizes(A, B))\n"
      ],
      "metadata": {
        "colab": {
          "base_uri": "https://localhost:8080/"
        },
        "id": "D5n4zCBWtGjU",
        "outputId": "b8ed02c4-73ea-420d-db30-dbd81e22efdf"
      },
      "execution_count": null,
      "outputs": [
        {
          "output_type": "stream",
          "name": "stdout",
          "text": [
            "[[11, 13, 15], [17, 19, 21], [23, 25, 27]]\n"
          ]
        }
      ]
    },
    {
      "cell_type": "markdown",
      "source": [
        "7. Crie uma função que encontre a interseção de duas listas sem usar conjuntos."
      ],
      "metadata": {
        "id": "pQ8tuhZotZog"
      }
    },
    {
      "cell_type": "code",
      "source": [
        "def intersecao_listas(lista1, lista2):\n",
        "    intersecao = [valor for valor in lista1 if valor in lista2]\n",
        "    return intersecao\n",
        "\n",
        "# Listas de exemplo\n",
        "lista1 = [1, 2, 3, 4, 5]\n",
        "lista2 = [4, 5, 6, 7, 8]\n",
        "\n",
        "# Encontrar a interseção\n",
        "resultado = intersecao_listas(lista1, lista2)\n",
        "\n",
        "print(resultado)\n"
      ],
      "metadata": {
        "colab": {
          "base_uri": "https://localhost:8080/"
        },
        "id": "3iHc0g7Gto8H",
        "outputId": "d505469e-0e70-4330-9a35-9f87f62f6da3"
      },
      "execution_count": null,
      "outputs": [
        {
          "output_type": "stream",
          "name": "stdout",
          "text": [
            "[4, 5]\n"
          ]
        }
      ]
    },
    {
      "cell_type": "markdown",
      "source": [
        "8. Crie uma função que embaralhe os elementos de uma lista de forma aleatória"
      ],
      "metadata": {
        "id": "JJM5xFQOuPz1"
      }
    },
    {
      "cell_type": "code",
      "source": [
        "import random\n",
        "\n",
        "def embaralhar_lista(lista):\n",
        "    random.shuffle(lista)\n",
        "    return lista\n",
        "\n",
        "# Lista de exemplo\n",
        "lista = [1, 2, 3, 4, 5]\n",
        "\n",
        "# Embaralhar a lista\n",
        "resultado = embaralhar_lista(lista)\n",
        "\n",
        "print(resultado)\n"
      ],
      "metadata": {
        "id": "Fwhwx6vbuSGN"
      },
      "execution_count": null,
      "outputs": []
    },
    {
      "cell_type": "markdown",
      "source": [
        "9. Escreva um programa que encontre o par de elementos em uma lista cuja soma\n",
        "seja igual a um determinado valor"
      ],
      "metadata": {
        "id": "9rXF52jGukam"
      }
    },
    {
      "cell_type": "code",
      "source": [
        "def encontrar_par_soma(lista, soma):\n",
        "    for i in range(len(lista)):\n",
        "        for j in range(i+1, len(lista)):\n",
        "            if lista[i] + lista[j] == soma:\n",
        "                return (lista[i], lista[j])\n",
        "    return None\n",
        "\n",
        "# Lista de exemplo\n",
        "lista = [1, 2, 3, 4, 5]\n",
        "\n",
        "# Valor de soma de exemplo\n",
        "soma = 7\n",
        "\n",
        "# Encontrar o par\n",
        "resultado = encontrar_par_soma(lista, soma)\n",
        "\n",
        "if resultado:\n",
        "    print(f\"O par de elementos que soma {soma} é {resultado}.\")\n",
        "else:\n",
        "    print(f\"Não há par de elementos que soma {soma}.\")\n"
      ],
      "metadata": {
        "id": "UQESx86zumYD"
      },
      "execution_count": null,
      "outputs": []
    },
    {
      "cell_type": "markdown",
      "source": [
        "10. Criar um algoritmo para calcular a frequência que uma palavra aparece em um\n",
        "texto"
      ],
      "metadata": {
        "id": "hhCJroybuoF5"
      }
    },
    {
      "cell_type": "code",
      "source": [
        "def frequencia_palavra(texto, palavra):\n",
        "    palavras = texto.split()\n",
        "    frequencia = palavras.count(palavra)\n",
        "    return frequencia\n",
        "\n",
        "# Texto de exemplo\n",
        "texto = \"A raposa rápida pula sobre o cão preguiçoso. A raposa é muito rápida.\"\n",
        "\n",
        "# Palavra para calcular a frequência\n",
        "palavra = \"rápida\"\n",
        "\n",
        "# Calcular a frequência\n",
        "resultado = frequencia_palavra(texto, palavra)\n",
        "\n",
        "print(f\"A palavra '{palavra}' aparece {resultado} vez(es) no texto.\")\n"
      ],
      "metadata": {
        "id": "rdv2J8IjuoSN"
      },
      "execution_count": null,
      "outputs": []
    },
    {
      "cell_type": "markdown",
      "source": [
        "11. Escreva um programa que identifique todos os números primos em uma lista de\n",
        "números inteiros"
      ],
      "metadata": {
        "id": "rQji7jzou4oC"
      }
    },
    {
      "cell_type": "code",
      "source": [
        "def eh_primo(numero):\n",
        "    \"\"\"\n",
        "    Verifica se um número é primo.\n",
        "    \"\"\"\n",
        "    for i in range(2, numero):\n",
        "        if numero % i == 0:\n",
        "            return False\n",
        "    return True\n",
        "\n",
        "def exibe_numeros_primos():\n",
        "    \"\"\"\n",
        "    Exibe todos os números primos entre 2 e 100.\n",
        "    \"\"\"\n",
        "    for num in range(2, 101):\n",
        "        if eh_primo(num):\n",
        "            print(num)\n",
        "\n",
        "# Chama a função para exibir os números primos\n",
        "exibe_numeros_primos()\n"
      ],
      "metadata": {
        "colab": {
          "base_uri": "https://localhost:8080/"
        },
        "id": "_4iG9QrZu5J8",
        "outputId": "963d1b3b-af6c-41d4-e3ca-82aa2dc50561"
      },
      "execution_count": null,
      "outputs": [
        {
          "output_type": "stream",
          "name": "stdout",
          "text": [
            "2\n",
            "3\n",
            "5\n",
            "7\n",
            "11\n",
            "13\n",
            "17\n",
            "19\n",
            "23\n",
            "29\n",
            "31\n",
            "37\n",
            "41\n",
            "43\n",
            "47\n",
            "53\n",
            "59\n",
            "61\n",
            "67\n",
            "71\n",
            "73\n",
            "79\n",
            "83\n",
            "89\n",
            "97\n"
          ]
        }
      ]
    },
    {
      "cell_type": "markdown",
      "source": [
        "12. Implemente um algoritmo para encontrar a menor string em uma lista de strings"
      ],
      "metadata": {
        "id": "QTon3XWAvrhF"
      }
    },
    {
      "cell_type": "code",
      "source": [
        "def menor_string(lista_strings):\n",
        "    return min(len(s) for s in lista_strings)\n",
        "\n",
        "# Exemplo de uso:\n",
        "lista = ['gato', 'cachorro', 'rato', 'elefante']\n",
        "tamanho_menor_string = menor_string(lista)\n",
        "print(f\"A menor string tem {tamanho_menor_string} caracteres.\")\n"
      ],
      "metadata": {
        "colab": {
          "base_uri": "https://localhost:8080/"
        },
        "id": "7eWaeez7vubq",
        "outputId": "e950e147-6f9a-4dbe-dfb9-1a3f2c556d73"
      },
      "execution_count": null,
      "outputs": [
        {
          "output_type": "stream",
          "name": "stdout",
          "text": [
            "A menor string tem 4 caracteres.\n"
          ]
        }
      ]
    },
    {
      "cell_type": "markdown",
      "source": [
        "13. Crie um algoritmo para ler um arquivo texto"
      ],
      "metadata": {
        "id": "O0RsNNciv3eC"
      }
    },
    {
      "cell_type": "code",
      "source": [
        "def ler_arquivo(nome_arquivo):\n",
        "    try:\n",
        "        with open(nome_arquivo, 'r') as arquivo:\n",
        "            conteudo = arquivo.read()\n",
        "            print(f\"Conteúdo do arquivo '{nome_arquivo}':\\n{conteudo}\")\n",
        "    except FileNotFoundError:\n",
        "        print(f\"Arquivo '{nome_arquivo}' não encontrado.\")\n",
        "\n",
        "# Exemplo de uso:\n",
        "nome_do_arquivo = 'meu_arquivo.txt'\n",
        "ler_arquivo(nome_do_arquivo)\n"
      ],
      "metadata": {
        "colab": {
          "base_uri": "https://localhost:8080/"
        },
        "id": "uin7BeHiv3qZ",
        "outputId": "d45fb293-2f43-40c5-904b-87cde8f56a47"
      },
      "execution_count": null,
      "outputs": [
        {
          "output_type": "stream",
          "name": "stdout",
          "text": [
            "Arquivo 'meu_arquivo.txt' não encontrado.\n"
          ]
        }
      ]
    },
    {
      "cell_type": "markdown",
      "source": [
        "14. Crie um algoritmo para ler um arquivo CSV."
      ],
      "metadata": {
        "id": "IPm632xZwJ6U"
      }
    },
    {
      "cell_type": "code",
      "source": [
        "import csv\n",
        "\n",
        "def ler_arquivo_csv(nome_arquivo):\n",
        "    try:\n",
        "        with open(nome_arquivo, 'r') as arquivo_csv:\n",
        "            leitor = csv.reader(arquivo_csv)\n",
        "            for linha in leitor:\n",
        "                print(linha)\n",
        "    except FileNotFoundError:\n",
        "        print(f\"Arquivo '{nome_arquivo}' não encontrado.\")\n",
        "\n",
        "# Exemplo de uso:\n",
        "nome_do_arquivo_csv = 'dados.csv'\n",
        "ler_arquivo_csv(nome_do_arquivo_csv)\n"
      ],
      "metadata": {
        "id": "qV2_i_81wKD_"
      },
      "execution_count": null,
      "outputs": []
    },
    {
      "cell_type": "markdown",
      "source": [
        "15. Crie um algoritmo para ler um arquivo JSON."
      ],
      "metadata": {
        "id": "uWv5rYcnwRTB"
      }
    },
    {
      "cell_type": "code",
      "source": [
        "import json\n",
        "\n",
        "with open(\"orders.json\") as file:\n",
        "    data = json.load(file)\n",
        "\n",
        "print(\"Tamanho do pedido:\", data[\"size\"])\n",
        "print(\"Preço:\", data[\"price\"])\n",
        "print(\"Toppings:\", data[\"toppings\"])\n",
        "print(\"Cliente:\", data[\"client\"][\"name\"])\n"
      ],
      "metadata": {
        "id": "_s0A-XKZwRgh"
      },
      "execution_count": null,
      "outputs": []
    },
    {
      "cell_type": "markdown",
      "source": [
        "16. Crie um algoritmo para consolidar um ou mais arquivos de texto de um diretório"
      ],
      "metadata": {
        "id": "-5E5EvpCw6cJ"
      }
    },
    {
      "cell_type": "code",
      "source": [
        "import os\n",
        "import shutil\n",
        "\n",
        "def consolidate_text_files(directory_path, output_file):\n",
        "    # Lista todos os arquivos de texto no diretório\n",
        "    text_files = [f for f in os.listdir(directory_path) if f.endswith(\".txt\")]\n",
        "\n",
        "    # Cria o arquivo consolidado\n",
        "    with open(output_file, \"w\") as consolidated_file:\n",
        "        for text_file in text_files:\n",
        "            file_path = os.path.join(directory_path, text_file)\n",
        "            with open(file_path, \"r\") as current_file:\n",
        "                # Copia o conteúdo do arquivo atual para o arquivo consolidado\n",
        "                shutil.copyfileobj(current_file, consolidated_file)\n",
        "\n",
        "    print(f\"Arquivos consolidados em {output_file}\")\n",
        "\n",
        "# Exemplo de uso\n",
        "directory = \"/caminho/do/seu/diretorio\"\n",
        "output_filename = \"arquivo_consolidado.txt\"\n",
        "consolidate_text_files(directory, output_filename)\n"
      ],
      "metadata": {
        "id": "hFwAkFCVw6nX"
      },
      "execution_count": null,
      "outputs": []
    },
    {
      "cell_type": "markdown",
      "source": [
        "17. Crie um algoritmo para ler dados de um CSV (que possui os meses e valores de\n",
        "vendas), retornando qual o mês teve mais vendas"
      ],
      "metadata": {
        "id": "6kAuEJ9ixO6q"
      }
    },
    {
      "cell_type": "code",
      "source": [
        "import csv\n",
        "\n",
        "# Suponha que o arquivo CSV tenha as colunas 'mes' e 'vendas'\n",
        "# e esteja nomeado como 'vendas.csv'\n",
        "\n",
        "with open('vendas.csv', newline='') as csvfile:\n",
        "    reader = csv.DictReader(csvfile)\n",
        "    vendas_por_mes = {}  # Dicionário para armazenar as vendas por mês\n",
        "\n",
        "    for row in reader:\n",
        "        mes = row['mes']\n",
        "        valor_vendas = float(row['vendas'])\n",
        "\n",
        "        # Atualiza o total de vendas para o mês atual\n",
        "        if mes in vendas_por_mes:\n",
        "            vendas_por_mes[mes] += valor_vendas\n",
        "        else:\n",
        "            vendas_por_mes[mes] = valor_vendas\n",
        "\n",
        "# Encontra o mês com o maior valor de vendas\n",
        "mes_mais_vendas = max(vendas_por_mes, key=vendas_por_mes.get)\n",
        "\n",
        "print(f\"O mês com mais vendas foi {mes_mais_vendas}.\")\n"
      ],
      "metadata": {
        "id": "asPCU0X-xPKX"
      },
      "execution_count": null,
      "outputs": []
    },
    {
      "cell_type": "markdown",
      "source": [
        "18. Crie um algoritmo para ler dados de um CSV (que possui os meses e valores de\n",
        "vendas), retornando qual o mês teve menos vendas."
      ],
      "metadata": {
        "id": "OWlnrbQRxwsq"
      }
    },
    {
      "cell_type": "code",
      "source": [
        "import csv\n",
        "\n",
        "# Suponha que o arquivo CSV tenha as colunas 'mes' e 'vendas'\n",
        "# e esteja nomeado como 'vendas.csv'\n",
        "\n",
        "with open('vendas.csv', newline='') as csvfile:\n",
        "    reader = csv.DictReader(csvfile)\n",
        "    vendas_por_mes = {}  # Dicionário para armazenar as vendas por mês\n",
        "\n",
        "    for row in reader:\n",
        "        mes = row['mes']\n",
        "        valor_vendas = float(row['vendas'])\n",
        "\n",
        "        # Atualiza o total de vendas para o mês atual\n",
        "        if mes in vendas_por_mes:\n",
        "            vendas_por_mes[mes] += valor_vendas\n",
        "        else:\n",
        "            vendas_por_mes[mes] = valor_vendas\n",
        "\n",
        "# Encontra o mês com o menor valor de vendas\n",
        "mes_menos_vendas = min(vendas_por_mes, key=vendas_por_mes.get)\n",
        "\n",
        "print(f\"O mês com menos vendas foi {mes_menos_vendas}.\")\n"
      ],
      "metadata": {
        "id": "AOVc2K1Mxw06"
      },
      "execution_count": null,
      "outputs": []
    },
    {
      "cell_type": "markdown",
      "source": [
        "19. Crie um algoritmo para ler dados de um CSV (que possui o nome de vendedores e\n",
        "o valor de cada venda realizada), retornando qual a soma de vendas que teve cada\n",
        "vendedor."
      ],
      "metadata": {
        "id": "fKV_mOFfx-ds"
      }
    },
    {
      "cell_type": "code",
      "source": [
        "import csv\n",
        "\n",
        "# Suponha que o arquivo CSV tenha as colunas 'nome' e 'vendas'\n",
        "# e esteja nomeado como 'vendas.csv'\n",
        "\n",
        "# Dicionário para armazenar as vendas por vendedor\n",
        "vendas_por_vendedor = {}\n",
        "\n",
        "with open('vendas.csv', newline='') as csvfile:\n",
        "    reader = csv.DictReader(csvfile)\n",
        "\n",
        "    for row in reader:\n",
        "        nome_vendedor = row['nome']\n",
        "        valor_vendas = float(row['vendas'])\n",
        "\n",
        "        # Atualiza o total de vendas para o vendedor atual\n",
        "        if nome_vendedor in vendas_por_vendedor:\n",
        "            vendas_por_vendedor[nome_vendedor] += valor_vendas\n",
        "        else:\n",
        "            vendas_por_vendedor[nome_vendedor] = valor_vendas\n",
        "\n",
        "# Exibe a soma de vendas para cada vendedor\n",
        "for vendedor, total_vendas in vendas_por_vendedor.items():\n",
        "    print(f\"Vendedor {vendedor}: Total de vendas = R${total_vendas:.2f}\")\n"
      ],
      "metadata": {
        "id": "vD6_GKxXx-j9"
      },
      "execution_count": null,
      "outputs": []
    },
    {
      "cell_type": "markdown",
      "source": [
        "20. Crie um algoritmo para ler dados de um CSV (que possui o nome de vendedores e\n",
        "o valor de cada venda realizada), retornando qual o vendedor que mais vendeu e o\n",
        "que menos vendeu."
      ],
      "metadata": {
        "id": "HCCvo2_RyHya"
      }
    },
    {
      "cell_type": "code",
      "source": [
        "import csv\n",
        "\n",
        "# Suponha que o arquivo CSV tenha as colunas 'nome' e 'vendas'\n",
        "# e esteja nomeado como 'vendas.csv'\n",
        "\n",
        "# Dicionário para armazenar as vendas por vendedor\n",
        "vendas_por_vendedor = {}\n",
        "\n",
        "with open('vendas.csv', newline='') as csvfile:\n",
        "    reader = csv.DictReader(csvfile)\n",
        "\n",
        "    for row in reader:\n",
        "        nome_vendedor = row['nome']\n",
        "        valor_vendas = float(row['vendas'])\n",
        "\n",
        "        # Atualiza o total de vendas para o vendedor atual\n",
        "        if nome_vendedor in vendas_por_vendedor:\n",
        "            vendas_por_vendedor[nome_vendedor] += valor_vendas\n",
        "        else:\n",
        "            vendas_por_vendedor[nome_vendedor] = valor_vendas\n",
        "\n",
        "# Encontra o vendedor com mais vendas\n",
        "vendedor_mais_vendeu = max(vendas_por_vendedor, key=vendas_por_vendedor.get)\n",
        "\n",
        "# Encontra o vendedor com menos vendas\n",
        "vendedor_menos_vendeu = min(vendas_por_vendedor, key=vendas_por_vendedor.get)\n",
        "\n",
        "print(f\"O vendedor que mais vendeu foi {vendedor_mais_vendeu}.\")\n",
        "print(f\"O vendedor que menos vendeu foi {vendedor_menos_vendeu}.\")\n"
      ],
      "metadata": {
        "id": "IOnbXni_yH3l"
      },
      "execution_count": null,
      "outputs": []
    }
  ]
}